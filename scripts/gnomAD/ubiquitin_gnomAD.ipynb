{
 "cells": [
  {
   "cell_type": "code",
   "execution_count": 1,
   "metadata": {},
   "outputs": [
    {
     "name": "stderr",
     "output_type": "stream",
     "text": [
      "2023-05-11 13:14:25.504216: I tensorflow/core/platform/cpu_feature_guard.cc:193] This TensorFlow binary is optimized with oneAPI Deep Neural Network Library (oneDNN) to use the following CPU instructions in performance-critical operations:  SSE4.1 SSE4.2 AVX AVX2 FMA\n",
      "To enable them in other operations, rebuild TensorFlow with the appropriate compiler flags.\n"
     ]
    }
   ],
   "source": [
    "##### Imports #####\n",
    "import pandas as pd\n",
    "from scripts import functions"
   ]
  },
  {
   "cell_type": "code",
   "execution_count": 4,
   "metadata": {},
   "outputs": [],
   "source": [
    "##### Settings #####\n",
    "pd.set_option('display.max_columns',100)\n",
    "pd.set_option('display.max_rows', 200)"
   ]
  },
  {
   "cell_type": "code",
   "execution_count": 5,
   "metadata": {},
   "outputs": [],
   "source": [
    "##### Loading Data #####\n"
   ]
  },
  {
   "cell_type": "code",
   "execution_count": 6,
   "metadata": {},
   "outputs": [
    {
     "name": "stdout",
     "output_type": "stream",
     "text": [
      "104533\n"
     ]
    },
    {
     "data": {
      "text/plain": [
       "{'Seq_1_name': 'ubiquitin',\n",
       " 'Seq_2_name': 'insert_5',\n",
       " 'Length': 233,\n",
       " 'Identity': 33.9,\n",
       " 'Similarity': 33.9,\n",
       " 'Gaps': 138,\n",
       " 'Score': 124.5,\n",
       " 'Display': 'ubiquitin          1 ATGCAGATCTTCGTGAAGACCCTGACTGGTAAGACCATCACCCTCGA-GG     49\\n                                            |||.||         |.|.||.|| ||\\ninsert_5           1 -----------------------GACAGG---------CTCTCTAGAGGG     18\\n\\nubiquitin         50 TGGAGCCCAGTGACACCATCGAGAATGTCAAGGCAAAGATCCAAGANAAG     99\\n                     ||||   |||    .|..||.||||.||                     |\\ninsert_5          19 TGGA---CAG----GCTCTCTAGAAGGT---------------------G     40\\n\\nubiquitin        100 GA-AGGCATCCCTCCTGACCAGCAGAGGTTGATCTTTGCNGGNAAACAGC    148\\n                     || ||||                         |||              |\\ninsert_5          41 GACAGGC-------------------------TCT--------------C     51\\n\\nubiquitin        149 TGGAAGATGGNC--GCACCCTGTCTGACTACAACATCCAGAAAGAGTCCA    196\\n                     |.||||.||| |  ||      |||  |||.||..|  |||.||      \\ninsert_5          52 TAGAAGGTGGACAGGC------TCT--CTAGAAGGT--AGACAG------     85\\n\\nubiquitin        197 CCCTGCACCTGGTGCTCCGTCTNAGA-GGTGGG    228\\n                                  ||||  ||| ||| ||||  \\ninsert_5          86 -------------GCTC--TCT-AGAGGGTG--    100',\n",
       " 'Seq_1_align_start': 1,\n",
       " 'Seq_1_align_end': 228,\n",
       " 'Seq_2_align_start': 1,\n",
       " 'Seq_2_align_end': 100}"
      ]
     },
     "execution_count": 6,
     "metadata": {},
     "output_type": "execute_result"
    }
   ],
   "source": [
    "gv3_aligns = functions.emboss_read_srspair('data/gnomADv3.1.1/ubiquitin_alignment.txt')\n",
    "print(len(gv3_aligns))\n",
    "gv3_aligns[0]"
   ]
  },
  {
   "cell_type": "code",
   "execution_count": 7,
   "metadata": {},
   "outputs": [
    {
     "name": "stdout",
     "output_type": "stream",
     "text": [
      "0\n"
     ]
    }
   ],
   "source": [
    "gv3_aligns_filtered = [ali for ali in gv3_aligns if ali['Identity'] > 70]\n",
    "print(len(gv3_aligns_filtered))"
   ]
  },
  {
   "cell_type": "code",
   "execution_count": 8,
   "metadata": {},
   "outputs": [],
   "source": [
    "for ali in gv3_aligns_filtered:\n",
    "    print(ali)\n",
    "    print(ali['Display'])"
   ]
  },
  {
   "cell_type": "code",
   "execution_count": 9,
   "metadata": {},
   "outputs": [],
   "source": [
    "gv2_aligns = functions.emboss_read_srspair('data/gnomADv2.1.1/ubiquitin_alignment.txt')\n",
    "print(len(gv2_aligns))\n",
    "gv2_aligns[0]"
   ]
  },
  {
   "cell_type": "code",
   "execution_count": null,
   "metadata": {},
   "outputs": [
    {
     "name": "stdout",
     "output_type": "stream",
     "text": [
      "0\n"
     ]
    }
   ],
   "source": [
    "gv2_aligns_filtered = [ali for ali in gv2_aligns if ali['Identity'] > 70]\n",
    "print(len(gv2_aligns_filtered))"
   ]
  },
  {
   "cell_type": "code",
   "execution_count": null,
   "metadata": {},
   "outputs": [],
   "source": []
  },
  {
   "cell_type": "code",
   "execution_count": null,
   "metadata": {},
   "outputs": [],
   "source": []
  },
  {
   "cell_type": "code",
   "execution_count": null,
   "metadata": {},
   "outputs": [],
   "source": []
  },
  {
   "cell_type": "code",
   "execution_count": null,
   "metadata": {},
   "outputs": [],
   "source": []
  },
  {
   "cell_type": "code",
   "execution_count": null,
   "metadata": {},
   "outputs": [],
   "source": []
  },
  {
   "cell_type": "code",
   "execution_count": null,
   "metadata": {},
   "outputs": [],
   "source": []
  },
  {
   "cell_type": "code",
   "execution_count": null,
   "metadata": {},
   "outputs": [],
   "source": []
  },
  {
   "cell_type": "code",
   "execution_count": null,
   "metadata": {},
   "outputs": [],
   "source": []
  },
  {
   "attachments": {},
   "cell_type": "markdown",
   "metadata": {},
   "source": [
    "##### Discarded code"
   ]
  },
  {
   "cell_type": "code",
   "execution_count": null,
   "metadata": {},
   "outputs": [],
   "source": [
    "%%script false --no-raise-error\n",
    "\n"
   ]
  }
 ],
 "metadata": {
  "kernelspec": {
   "display_name": "Python 3.10.6 ('base': conda)",
   "language": "python",
   "name": "python3"
  },
  "language_info": {
   "codemirror_mode": {
    "name": "ipython",
    "version": 3
   },
   "file_extension": ".py",
   "mimetype": "text/x-python",
   "name": "python",
   "nbconvert_exporter": "python",
   "pygments_lexer": "ipython3",
   "version": "3.10.8"
  },
  "orig_nbformat": 4,
  "vscode": {
   "interpreter": {
    "hash": "15a590390ab2d07a8b29d5c0d429762a50d82d00365b164ce6f1192d25159d8e"
   }
  }
 },
 "nbformat": 4,
 "nbformat_minor": 2
}
