{
 "cells": [
  {
   "cell_type": "code",
   "execution_count": 13,
   "metadata": {},
   "outputs": [],
   "source": [
    "##### Imports\n",
    "import pandas as pd\n",
    "\n",
    "from scripts import functions"
   ]
  },
  {
   "cell_type": "code",
   "execution_count": 14,
   "metadata": {},
   "outputs": [],
   "source": [
    "##### Constants\n",
    "HG19_GENOME_DIR = 'data/hg19.gencode.v19.primary_genome_by_chromosome'\n",
    "HG19_ANNOTATIONS_FILE = 'data/hg19.gencode.v19.primary_annotation.gtf'\n",
    "HG38_GENOME_DIR = 'data/hg38.gencode.v41.primary_genome_by_chromosome'\n",
    "HG38_ANNOTATIONS_FILE = 'data/hg38.gencode.v41.primary_annotation.gtf'\n",
    "\n",
    "HG19_INTRON_BED = \"data/hg19.ucsc_gencode_v19.introns.bed.gz\"\n",
    "HG19_INTRON_DIR = \"data/hg19.ucsc_gencode_v19.introns_by_chromosome\"\n",
    "HG38_INTRON_BED = \"data/hg38.ucsc_gencode_v41.introns.bed.gz\"\n",
    "HG38_INTRON_DIR = \"data/hg38.ucsc_gencode_v41.introns_by_chromosome\""
   ]
  },
  {
   "cell_type": "code",
   "execution_count": 16,
   "metadata": {},
   "outputs": [],
   "source": [
    "##### Settings\n",
    "pd.set_option('display.max_columns',100)\n",
    "pd.set_option('display.max_rows', 200)"
   ]
  },
  {
   "cell_type": "code",
   "execution_count": 17,
   "metadata": {},
   "outputs": [
    {
     "data": {
      "text/html": [
       "<div>\n",
       "<style scoped>\n",
       "    .dataframe tbody tr th:only-of-type {\n",
       "        vertical-align: middle;\n",
       "    }\n",
       "\n",
       "    .dataframe tbody tr th {\n",
       "        vertical-align: top;\n",
       "    }\n",
       "\n",
       "    .dataframe thead th {\n",
       "        text-align: right;\n",
       "    }\n",
       "</style>\n",
       "<table border=\"1\" class=\"dataframe\">\n",
       "  <thead>\n",
       "    <tr style=\"text-align: right;\">\n",
       "      <th></th>\n",
       "      <th>0</th>\n",
       "      <th>1</th>\n",
       "      <th>2</th>\n",
       "      <th>3</th>\n",
       "      <th>4</th>\n",
       "      <th>5</th>\n",
       "    </tr>\n",
       "  </thead>\n",
       "  <tbody>\n",
       "    <tr>\n",
       "      <th>0</th>\n",
       "      <td>chr1</td>\n",
       "      <td>12227</td>\n",
       "      <td>12612</td>\n",
       "      <td>uc001aaa.3_intron_0_0_chr1_12228_f</td>\n",
       "      <td>0</td>\n",
       "      <td>+</td>\n",
       "    </tr>\n",
       "    <tr>\n",
       "      <th>1</th>\n",
       "      <td>chr1</td>\n",
       "      <td>12721</td>\n",
       "      <td>13220</td>\n",
       "      <td>uc001aaa.3_intron_1_0_chr1_12722_f</td>\n",
       "      <td>0</td>\n",
       "      <td>+</td>\n",
       "    </tr>\n",
       "    <tr>\n",
       "      <th>2</th>\n",
       "      <td>chr1</td>\n",
       "      <td>12227</td>\n",
       "      <td>12645</td>\n",
       "      <td>uc010nxr.1_intron_0_0_chr1_12228_f</td>\n",
       "      <td>0</td>\n",
       "      <td>+</td>\n",
       "    </tr>\n",
       "    <tr>\n",
       "      <th>3</th>\n",
       "      <td>chr1</td>\n",
       "      <td>12697</td>\n",
       "      <td>13220</td>\n",
       "      <td>uc010nxr.1_intron_1_0_chr1_12698_f</td>\n",
       "      <td>0</td>\n",
       "      <td>+</td>\n",
       "    </tr>\n",
       "    <tr>\n",
       "      <th>4</th>\n",
       "      <td>chr1</td>\n",
       "      <td>12227</td>\n",
       "      <td>12594</td>\n",
       "      <td>uc010nxq.1_intron_0_0_chr1_12228_f</td>\n",
       "      <td>0</td>\n",
       "      <td>+</td>\n",
       "    </tr>\n",
       "    <tr>\n",
       "      <th>...</th>\n",
       "      <td>...</td>\n",
       "      <td>...</td>\n",
       "      <td>...</td>\n",
       "      <td>...</td>\n",
       "      <td>...</td>\n",
       "      <td>...</td>\n",
       "    </tr>\n",
       "    <tr>\n",
       "      <th>659322</th>\n",
       "      <td>chr19_gl000209_random</td>\n",
       "      <td>140096</td>\n",
       "      <td>144360</td>\n",
       "      <td>uc002quo.2_intron_4_0_chr19_gl000209_random_14...</td>\n",
       "      <td>0</td>\n",
       "      <td>+</td>\n",
       "    </tr>\n",
       "    <tr>\n",
       "      <th>659323</th>\n",
       "      <td>chr19_gl000209_random</td>\n",
       "      <td>144465</td>\n",
       "      <td>144927</td>\n",
       "      <td>uc002quo.2_intron_5_0_chr19_gl000209_random_14...</td>\n",
       "      <td>0</td>\n",
       "      <td>+</td>\n",
       "    </tr>\n",
       "    <tr>\n",
       "      <th>659324</th>\n",
       "      <td>chr19_gl000209_random</td>\n",
       "      <td>144980</td>\n",
       "      <td>145078</td>\n",
       "      <td>uc002quo.2_intron_6_0_chr19_gl000209_random_14...</td>\n",
       "      <td>0</td>\n",
       "      <td>+</td>\n",
       "    </tr>\n",
       "    <tr>\n",
       "      <th>659325</th>\n",
       "      <td>chr19_gl000209_random</td>\n",
       "      <td>149474</td>\n",
       "      <td>150938</td>\n",
       "      <td>uc002qup.1_intron_0_0_chr19_gl000209_random_14...</td>\n",
       "      <td>0</td>\n",
       "      <td>+</td>\n",
       "    </tr>\n",
       "    <tr>\n",
       "      <th>659326</th>\n",
       "      <td>chr19_gl000209_random</td>\n",
       "      <td>151238</td>\n",
       "      <td>152817</td>\n",
       "      <td>uc002qup.1_intron_1_0_chr19_gl000209_random_15...</td>\n",
       "      <td>0</td>\n",
       "      <td>+</td>\n",
       "    </tr>\n",
       "  </tbody>\n",
       "</table>\n",
       "<p>659327 rows × 6 columns</p>\n",
       "</div>"
      ],
      "text/plain": [
       "                            0       1       2  \\\n",
       "0                        chr1   12227   12612   \n",
       "1                        chr1   12721   13220   \n",
       "2                        chr1   12227   12645   \n",
       "3                        chr1   12697   13220   \n",
       "4                        chr1   12227   12594   \n",
       "...                       ...     ...     ...   \n",
       "659322  chr19_gl000209_random  140096  144360   \n",
       "659323  chr19_gl000209_random  144465  144927   \n",
       "659324  chr19_gl000209_random  144980  145078   \n",
       "659325  chr19_gl000209_random  149474  150938   \n",
       "659326  chr19_gl000209_random  151238  152817   \n",
       "\n",
       "                                                        3  4  5  \n",
       "0                      uc001aaa.3_intron_0_0_chr1_12228_f  0  +  \n",
       "1                      uc001aaa.3_intron_1_0_chr1_12722_f  0  +  \n",
       "2                      uc010nxr.1_intron_0_0_chr1_12228_f  0  +  \n",
       "3                      uc010nxr.1_intron_1_0_chr1_12698_f  0  +  \n",
       "4                      uc010nxq.1_intron_0_0_chr1_12228_f  0  +  \n",
       "...                                                   ... .. ..  \n",
       "659322  uc002quo.2_intron_4_0_chr19_gl000209_random_14...  0  +  \n",
       "659323  uc002quo.2_intron_5_0_chr19_gl000209_random_14...  0  +  \n",
       "659324  uc002quo.2_intron_6_0_chr19_gl000209_random_14...  0  +  \n",
       "659325  uc002qup.1_intron_0_0_chr19_gl000209_random_14...  0  +  \n",
       "659326  uc002qup.1_intron_1_0_chr19_gl000209_random_15...  0  +  \n",
       "\n",
       "[659327 rows x 6 columns]"
      ]
     },
     "execution_count": 17,
     "metadata": {},
     "output_type": "execute_result"
    }
   ],
   "source": [
    "##### Loading Data\n",
    "hg19_introns = pd.read_csv(HG19_INTRON_BED, delimiter=\"\\t\", header=None)\n",
    "hg19_introns\n",
    "# hg38_introns = pd.read_csv(HG38_INTRON_BED, delimiter=\"\\t\", header=None)\n",
    "# hg38_introns"
   ]
  },
  {
   "cell_type": "code",
   "execution_count": 18,
   "metadata": {},
   "outputs": [
    {
     "name": "stderr",
     "output_type": "stream",
     "text": [
      "/tmp/ipykernel_27671/570702206.py:5: SettingWithCopyWarning: \n",
      "A value is trying to be set on a copy of a slice from a DataFrame.\n",
      "Try using .loc[row_indexer,col_indexer] = value instead\n",
      "\n",
      "See the caveats in the documentation: https://pandas.pydata.org/pandas-docs/stable/user_guide/indexing.html#returning-a-view-versus-a-copy\n"
     ]
    },
    {
     "data": {
      "text/html": [
       "<div>\n",
       "<style scoped>\n",
       "    .dataframe tbody tr th:only-of-type {\n",
       "        vertical-align: middle;\n",
       "    }\n",
       "\n",
       "    .dataframe tbody tr th {\n",
       "        vertical-align: top;\n",
       "    }\n",
       "\n",
       "    .dataframe thead th {\n",
       "        text-align: right;\n",
       "    }\n",
       "</style>\n",
       "<table border=\"1\" class=\"dataframe\">\n",
       "  <thead>\n",
       "    <tr style=\"text-align: right;\">\n",
       "      <th></th>\n",
       "      <th>Chromosome</th>\n",
       "      <th>Start</th>\n",
       "      <th>End</th>\n",
       "      <th>ID</th>\n",
       "      <th>Strand</th>\n",
       "    </tr>\n",
       "  </thead>\n",
       "  <tbody>\n",
       "    <tr>\n",
       "      <th>0</th>\n",
       "      <td>chr1</td>\n",
       "      <td>12228</td>\n",
       "      <td>12612</td>\n",
       "      <td>uc001aaa.3_intron_0_0_chr1_12228_f</td>\n",
       "      <td>+</td>\n",
       "    </tr>\n",
       "    <tr>\n",
       "      <th>1</th>\n",
       "      <td>chr1</td>\n",
       "      <td>12722</td>\n",
       "      <td>13220</td>\n",
       "      <td>uc001aaa.3_intron_1_0_chr1_12722_f</td>\n",
       "      <td>+</td>\n",
       "    </tr>\n",
       "    <tr>\n",
       "      <th>2</th>\n",
       "      <td>chr1</td>\n",
       "      <td>12228</td>\n",
       "      <td>12645</td>\n",
       "      <td>uc010nxr.1_intron_0_0_chr1_12228_f</td>\n",
       "      <td>+</td>\n",
       "    </tr>\n",
       "    <tr>\n",
       "      <th>3</th>\n",
       "      <td>chr1</td>\n",
       "      <td>12698</td>\n",
       "      <td>13220</td>\n",
       "      <td>uc010nxr.1_intron_1_0_chr1_12698_f</td>\n",
       "      <td>+</td>\n",
       "    </tr>\n",
       "    <tr>\n",
       "      <th>4</th>\n",
       "      <td>chr1</td>\n",
       "      <td>12228</td>\n",
       "      <td>12594</td>\n",
       "      <td>uc010nxq.1_intron_0_0_chr1_12228_f</td>\n",
       "      <td>+</td>\n",
       "    </tr>\n",
       "    <tr>\n",
       "      <th>...</th>\n",
       "      <td>...</td>\n",
       "      <td>...</td>\n",
       "      <td>...</td>\n",
       "      <td>...</td>\n",
       "      <td>...</td>\n",
       "    </tr>\n",
       "    <tr>\n",
       "      <th>631330</th>\n",
       "      <td>chr22</td>\n",
       "      <td>51222450</td>\n",
       "      <td>51223600</td>\n",
       "      <td>uc003bnr.1_intron_0_0_chr22_51222450_f</td>\n",
       "      <td>+</td>\n",
       "    </tr>\n",
       "    <tr>\n",
       "      <th>631331</th>\n",
       "      <td>chr22</td>\n",
       "      <td>51223722</td>\n",
       "      <td>51227177</td>\n",
       "      <td>uc003bnr.1_intron_1_0_chr22_51223722_f</td>\n",
       "      <td>+</td>\n",
       "    </tr>\n",
       "    <tr>\n",
       "      <th>631332</th>\n",
       "      <td>chr22</td>\n",
       "      <td>51227227</td>\n",
       "      <td>51227319</td>\n",
       "      <td>uc003bnr.1_intron_2_0_chr22_51227227_f</td>\n",
       "      <td>+</td>\n",
       "    </tr>\n",
       "    <tr>\n",
       "      <th>631333</th>\n",
       "      <td>chr22</td>\n",
       "      <td>51222293</td>\n",
       "      <td>51223600</td>\n",
       "      <td>uc010hbj.3_intron_0_0_chr22_51222293_f</td>\n",
       "      <td>+</td>\n",
       "    </tr>\n",
       "    <tr>\n",
       "      <th>631334</th>\n",
       "      <td>chr22</td>\n",
       "      <td>51223722</td>\n",
       "      <td>51237082</td>\n",
       "      <td>uc010hbj.3_intron_1_0_chr22_51223722_f</td>\n",
       "      <td>+</td>\n",
       "    </tr>\n",
       "  </tbody>\n",
       "</table>\n",
       "<p>631335 rows × 5 columns</p>\n",
       "</div>"
      ],
      "text/plain": [
       "       Chromosome     Start       End                                      ID  \\\n",
       "0            chr1     12228     12612      uc001aaa.3_intron_0_0_chr1_12228_f   \n",
       "1            chr1     12722     13220      uc001aaa.3_intron_1_0_chr1_12722_f   \n",
       "2            chr1     12228     12645      uc010nxr.1_intron_0_0_chr1_12228_f   \n",
       "3            chr1     12698     13220      uc010nxr.1_intron_1_0_chr1_12698_f   \n",
       "4            chr1     12228     12594      uc010nxq.1_intron_0_0_chr1_12228_f   \n",
       "...           ...       ...       ...                                     ...   \n",
       "631330      chr22  51222450  51223600  uc003bnr.1_intron_0_0_chr22_51222450_f   \n",
       "631331      chr22  51223722  51227177  uc003bnr.1_intron_1_0_chr22_51223722_f   \n",
       "631332      chr22  51227227  51227319  uc003bnr.1_intron_2_0_chr22_51227227_f   \n",
       "631333      chr22  51222293  51223600  uc010hbj.3_intron_0_0_chr22_51222293_f   \n",
       "631334      chr22  51223722  51237082  uc010hbj.3_intron_1_0_chr22_51223722_f   \n",
       "\n",
       "       Strand  \n",
       "0           +  \n",
       "1           +  \n",
       "2           +  \n",
       "3           +  \n",
       "4           +  \n",
       "...       ...  \n",
       "631330      +  \n",
       "631331      +  \n",
       "631332      +  \n",
       "631333      +  \n",
       "631334      +  \n",
       "\n",
       "[631335 rows x 5 columns]"
      ]
     },
     "execution_count": 18,
     "metadata": {},
     "output_type": "execute_result"
    }
   ],
   "source": [
    "# ##### \n",
    "hg19_introns.columns = [\"Chromosome\", \"Start\", \"End\", \"ID\", \"Nothing_but_zeroes\", \"Strand\"]\n",
    "hg19_introns.drop(columns=[\"Nothing_but_zeroes\"], inplace=True)\n",
    "hg19_introns = hg19_introns[~hg19_introns.Chromosome.str.contains(\"_\")]\n",
    "hg19_introns.Start = hg19_introns.Start.apply(lambda pos: pos + 1)\n",
    "hg19_introns"
   ]
  },
  {
   "cell_type": "code",
   "execution_count": 19,
   "metadata": {},
   "outputs": [
    {
     "name": "stdout",
     "output_type": "stream",
     "text": [
      "chrY : /datasets2/genomes/fasta_files/hg19.ucsc_gencode_v19.introns_by_chromosome/chrY.fa\n"
     ]
    }
   ],
   "source": [
    "# ##### \n",
    "chrom = \"chrY\"\n",
    "# chrom = sys.argv[1]\n",
    "fasta_file = HG19_INTRON_DIR + f\"/{chrom}.fa\"\n",
    "print(chrom, \":\", fasta_file)\n",
    "with open(fasta_file, \"w\") as w:\n",
    "\tpass\n",
    "\t# w.write(\"#All intron sequences are forward-strand sequences, irrespective of the intron's orientation\\n#Some introns are of length 0 (Start=Stop) and have an empty line where a DNA sequence would be\\n#ID|Start|End|Strand\\n\")"
   ]
  },
  {
   "cell_type": "code",
   "execution_count": 20,
   "metadata": {},
   "outputs": [
    {
     "name": "stderr",
     "output_type": "stream",
     "text": [
      "/tmp/ipykernel_27671/2991711449.py:3: SettingWithCopyWarning: \n",
      "A value is trying to be set on a copy of a slice from a DataFrame\n",
      "\n",
      "See the caveats in the documentation: https://pandas.pydata.org/pandas-docs/stable/user_guide/indexing.html#returning-a-view-versus-a-copy\n"
     ]
    },
    {
     "name": "stdout",
     "output_type": "stream",
     "text": [
      "1,000 of 4,896\n",
      "2,000 of 4,896\n",
      "3,000 of 4,896\n",
      "4,000 of 4,896\n"
     ]
    }
   ],
   "source": [
    "# ##### \n",
    "target_introns = hg19_introns[hg19_introns.Chromosome == chrom]\n",
    "target_introns.sort_values(by=[\"Start\"], inplace=True)\n",
    "intron_count = target_introns.shape[0]\n",
    "\n",
    "i = 0\n",
    "for _, row in target_introns.iterrows():\n",
    "\tid = (f'>{row[\"ID\"]}|{row[\"Start\"]}|{row[\"End\"]}|{row[\"Strand\"]}')\n",
    "\tif row[\"Start\"] == row[\"End\"]:\n",
    "\t\tseq = \"\"\n",
    "\telse:\n",
    "\t\tseq = functions.get_sequence(HG19_GENOME_DIR, \n",
    "\t\t\t\t\t\t\t\t\tchrom,\n",
    "\t\t\t\t\t\t\t\t\trow[\"Start\"],\n",
    "\t\t\t\t\t\t\t\t\trow[\"End\"],\n",
    "\t\t\t\t\t\t\t\t\trow[\"Strand\"],\n",
    "\t\t\t\t\t\t\t\t\treverse_complement=False)\n",
    "\t\n",
    "\twith open(fasta_file, \"a\") as a:\n",
    "\t\ta.write(id + \"\\n\" + seq + \"\\n\")\n",
    "\n",
    "\ti += 1\n",
    "\tif i % 1_000 == 0:\n",
    "\t\tprint(f\"{i:,} of {intron_count:,}\")"
   ]
  },
  {
   "cell_type": "code",
   "execution_count": null,
   "metadata": {},
   "outputs": [],
   "source": [
    "# ##### \n",
    "# hg38_introns.columns = [\"Chromosome\", \"Start\", \"End\", \"ID\", \"Nothing_but_zeroes\", \"Strand\"]\n",
    "# hg38_introns.drop(columns=[\"Nothing_but_zeroes\"], inplace=True)\n",
    "# hg38_introns = hg38_introns[~hg38_introns.Chromosome.str.contains(\"_\")]\n",
    "# hg38_introns.Start = hg38_introns.Start.apply(lambda pos: pos + 1)\n",
    "# hg38_introns"
   ]
  },
  {
   "cell_type": "code",
   "execution_count": null,
   "metadata": {},
   "outputs": [],
   "source": [
    "# ##### \n",
    "# # chrom = \"chr1\"\n",
    "# chrom = sys.argv[1]\n",
    "# fasta_file = HG38_INTRON_DIR + f\"/{chrom}.fa\"\n",
    "# print(chrom, \":\", fasta_file)\n",
    "# with open(fasta_file, \"w\") as w:\n",
    "# \tpass"
   ]
  },
  {
   "cell_type": "code",
   "execution_count": null,
   "metadata": {},
   "outputs": [],
   "source": [
    "# ##### \n",
    "# target_introns = hg38_introns[hg38_introns.Chromosome == chrom]\n",
    "# target_introns.sort_values(by=[\"Start\"], inplace=True)\n",
    "# intron_count = target_introns.shape[0]\n",
    "\n",
    "# i = 0\n",
    "# for _, row in target_introns.iterrows():\n",
    "# \tid = (f'>{row[\"ID\"]}|{row[\"Start\"]}|{row[\"End\"]}|{row[\"Strand\"]}')\n",
    "# \tif row[\"Start\"] == row[\"End\"]:\n",
    "# \t\tseq = \"\"\n",
    "# \telse:\n",
    "# \t\tseq = functions.get_sequence(HG38_GENOME_DIR, \n",
    "# \t\t\t\t\t\t\t\t\tchrom,\n",
    "# \t\t\t\t\t\t\t\t\trow[\"Start\"],\n",
    "# \t\t\t\t\t\t\t\t\trow[\"End\"],\n",
    "# \t\t\t\t\t\t\t\t\trow[\"Strand\"],\n",
    "# \t\t\t\t\t\t\t\t\treverse_complement=False)\n",
    "\t\n",
    "# \twith open(fasta_file, \"a\") as a:\n",
    "# \t\ta.write(id + \"\\n\" + seq + \"\\n\")\n",
    "\n",
    "# \ti += 1\n",
    "# \tif i % 100_000 == 0: \n",
    "# \t\tprint(f\"{i:,} introns of {intron_count:,}\")"
   ]
  },
  {
   "cell_type": "code",
   "execution_count": null,
   "metadata": {},
   "outputs": [],
   "source": [
    "##### \n"
   ]
  },
  {
   "cell_type": "code",
   "execution_count": null,
   "metadata": {},
   "outputs": [],
   "source": [
    "##### \n"
   ]
  },
  {
   "cell_type": "code",
   "execution_count": null,
   "metadata": {},
   "outputs": [],
   "source": [
    "##### \n"
   ]
  },
  {
   "cell_type": "code",
   "execution_count": null,
   "metadata": {},
   "outputs": [],
   "source": [
    "##### \n"
   ]
  },
  {
   "cell_type": "code",
   "execution_count": null,
   "metadata": {},
   "outputs": [],
   "source": [
    "##### \n"
   ]
  },
  {
   "cell_type": "code",
   "execution_count": null,
   "metadata": {},
   "outputs": [],
   "source": [
    "##### \n"
   ]
  },
  {
   "cell_type": "code",
   "execution_count": null,
   "metadata": {},
   "outputs": [],
   "source": [
    "##### \n"
   ]
  },
  {
   "cell_type": "code",
   "execution_count": null,
   "metadata": {},
   "outputs": [],
   "source": [
    "##### \n"
   ]
  },
  {
   "cell_type": "code",
   "execution_count": null,
   "metadata": {},
   "outputs": [],
   "source": [
    "##### \n"
   ]
  },
  {
   "cell_type": "code",
   "execution_count": null,
   "metadata": {},
   "outputs": [],
   "source": [
    "##### \n"
   ]
  },
  {
   "cell_type": "code",
   "execution_count": null,
   "metadata": {},
   "outputs": [],
   "source": [
    "##### \n"
   ]
  },
  {
   "cell_type": "code",
   "execution_count": null,
   "metadata": {},
   "outputs": [],
   "source": [
    "##### \n"
   ]
  },
  {
   "cell_type": "code",
   "execution_count": null,
   "metadata": {},
   "outputs": [],
   "source": [
    "##### \n"
   ]
  },
  {
   "cell_type": "code",
   "execution_count": null,
   "metadata": {},
   "outputs": [],
   "source": [
    "##### \n"
   ]
  },
  {
   "cell_type": "code",
   "execution_count": null,
   "metadata": {},
   "outputs": [],
   "source": [
    "##### \n"
   ]
  },
  {
   "cell_type": "markdown",
   "metadata": {},
   "source": [
    "#####\tDiscarded code\t#####"
   ]
  }
 ],
 "metadata": {
  "kernelspec": {
   "display_name": "Python 3.10.6 ('base': conda)",
   "language": "python",
   "name": "python3"
  },
  "language_info": {
   "codemirror_mode": {
    "name": "ipython",
    "version": 3
   },
   "file_extension": ".py",
   "mimetype": "text/x-python",
   "name": "python",
   "nbconvert_exporter": "python",
   "pygments_lexer": "ipython3",
   "version": "3.10.8"
  },
  "orig_nbformat": 4,
  "vscode": {
   "interpreter": {
    "hash": "15a590390ab2d07a8b29d5c0d429762a50d82d00365b164ce6f1192d25159d8e"
   }
  }
 },
 "nbformat": 4,
 "nbformat_minor": 2
}
