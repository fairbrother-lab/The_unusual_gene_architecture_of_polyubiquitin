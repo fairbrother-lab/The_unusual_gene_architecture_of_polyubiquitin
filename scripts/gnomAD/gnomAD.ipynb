{
 "cells": [
  {
   "cell_type": "code",
   "execution_count": null,
   "metadata": {},
   "outputs": [],
   "source": [
    "##### Imports\n",
    "import sys\n",
    "import pandas as pd\n",
    "import allel\n",
    "\n",
    "from scripts import functions"
   ]
  },
  {
   "cell_type": "code",
   "execution_count": null,
   "metadata": {},
   "outputs": [],
   "source": [
    "##### Constants\n",
    "WORKING_DIR = ''\n",
    "REF_GENOME_DIR = 'data/hg38.gencode.v41.primary_genome_by_chromosome'\n",
    "REF_ANNOTATIONS_FILE = 'data/hg38.gencode.v41.primary_annotation.gtf'\n",
    "\n",
    "VTWO_INSERTS_FILE_BASE = WORKING_DIR + 'data/gnomAD_v2.1.1/insert_fastas/gnomAD_v2.1.1_inserts'\n",
    "VTWO_FIELDS = [\"variants/ID\", \"variants/POS\", \"variants/ALT\", \"variants/FILTER_PASS\", \"variants/allele_type\"]\n",
    "VTWO_OUT_COLUMNS = [\"Position\", \"ID\", \"Insert_sequence\"]\n",
    "\n",
    "VTHREE_INSERTS_FILE_BASE = WORKING_DIR + 'data/gnomADv3.1.1/insert_fastas/gnomAD_v3.1.1_inserts'\n",
    "VTHREE_FIELDS = [\"variants/POS\", \"variants/ID\", \"variants/ALT\", \"variants/FILTER_PASS\", \"variants/allele_type\"]\n",
    "VTHREE_OUT_COLUMNS = [\"Position\", \"ID\", \"Insert_sequence\"]\n",
    "\n",
    "# CHUNK_LENGTH = 65_536 \t\t# The default\n",
    "CHUNK_LENGTH = 50_000"
   ]
  },
  {
   "cell_type": "code",
   "execution_count": null,
   "metadata": {},
   "outputs": [],
   "source": [
    "##### Settings\n",
    "pd.set_option('display.max_columns',100)\n",
    "pd.set_option('display.max_rows', 200)"
   ]
  },
  {
   "cell_type": "code",
   "execution_count": null,
   "metadata": {},
   "outputs": [],
   "source": [
    "#####\n",
    "# chrom = \"1\"\n",
    "chrom = sys.argv[1]\n",
    "print(chrom)\n",
    "\n",
    "# vtwo_vcf_file = f\"/datasets2/genomes/gnomAD/gnomad.genomes.r2.1.1.sites.{chrom}.vcf.bgz\"\n",
    "# vtwo_outfile = VTWO_INSERTS_FILE_BASE + \"_chr\" + chrom + \".tsv\"\n",
    "# vtwo_varcount = functions.file_linecount(vtwo_vcf_file, True) - len(allel.read_vcf_headers(vtwo_vcf_file)[0])\n",
    "# _, _, _, vtwo_iter = allel.iter_vcf_chunks(vtwo_vcf_file, fields=VTWO_FIELDS, chunk_length=CHUNK_LENGTH)\n",
    "\n",
    "vthree_vcf_file = f\"/data/gnomAD/gnomad.genomes.v3.1.1.sites.chr{chrom}.vcf.bgz\"\n",
    "vthree_outfile = VTHREE_INSERTS_FILE_BASE + \"_chr\" + chrom + \".fa\"\n",
    "vthree_varcount = functions.file_linecount(vthree_vcf_file, True) - len(allel.read_vcf_headers(vthree_vcf_file)[0])\n",
    "_, _, _, vthree_iter = allel.iter_vcf_chunks(vthree_vcf_file, fields=VTHREE_FIELDS, chunk_length=CHUNK_LENGTH)"
   ]
  },
  {
   "cell_type": "code",
   "execution_count": null,
   "metadata": {},
   "outputs": [],
   "source": [
    "# ##### \n",
    "# print(len(allel.read_vcf_headers(vthree_vcf_file)[0]))\n",
    "# for h in allel.read_vcf_headers(vthree_vcf_file)[0]:\n",
    "# \tprint(h)"
   ]
  },
  {
   "cell_type": "code",
   "execution_count": null,
   "metadata": {},
   "outputs": [],
   "source": [
    "# ##### \n",
    "# with open(vtwo_outfile, 'w') as w:\n",
    "# \tw.write(\"\\t\".join(VTWO_OUT_COLUMNS) + \"\\n\")\n",
    "\t\n",
    "# i = 0\n",
    "# for chunk, varcount, _, _ in vtwo_iter:\n",
    "# \tchunk[\"variants/ALT\"] = [a[0][1:] for a in chunk[\"variants/ALT\"]]\t\t# ['AAGTCAGTCAG', '', ''] -> 'AAGTCAGTCAG' -> 'AGTCAGTCAG' because the first base is from the reference sequence\n",
    "# \tchunk[\"variants/allele_type\"] = [a[0] for a in chunk[\"variants/allele_type\"]]\n",
    "# \tdf = pd.DataFrame(chunk)\n",
    "# \tdf.columns = [field.split(\"/\")[1] for field in VTWO_FIELDS]\n",
    "# \tdf = df[(df[\"FILTER_PASS\"]) & (df[\"allele_type\"] == 'ins') & (df.ALT.str.len() >= 50)]\n",
    "# \tdf = df[[\"ID\", \"POS\", \"ALT\"]]\n",
    "# \tdf.to_csv(vtwo_outfile, mode=\"a\", index=False, header=False, sep=\"\\t\")\n",
    "\n",
    "# \ti += varcount\n",
    "# \tprint(f\"{i:,} of {vtwo_varcount:,}\")"
   ]
  },
  {
   "cell_type": "code",
   "execution_count": null,
   "metadata": {},
   "outputs": [],
   "source": [
    "##### \n"
   ]
  },
  {
   "cell_type": "code",
   "execution_count": null,
   "metadata": {},
   "outputs": [],
   "source": [
    "#####\n",
    "with open(vthree_outfile, 'w') as _:\n",
    "\tpass"
   ]
  },
  {
   "cell_type": "code",
   "execution_count": null,
   "metadata": {},
   "outputs": [],
   "source": [
    "##### \n",
    "i = 0\n",
    "insert_num = 0\n",
    "for chunk, varcount, _, _ in vthree_iter:\n",
    "\tentries = []\n",
    "\n",
    "\tchunk[\"variants/ALT\"] = [a[0][1:] for a in chunk[\"variants/ALT\"]]\t\t# ['AAGTCAGTCAG', '', ''] -> 'AAGTCAGTCAG' -> 'AGTCAGTCAG' because the first base is from the reference sequence\n",
    "\tchunk[\"variants/allele_type\"] = [a[0] for a in chunk[\"variants/allele_type\"]]\n",
    "\tdf = pd.DataFrame(chunk)\n",
    "\tdf.columns = [field.split(\"/\")[1] for field in VTHREE_FIELDS]\n",
    "\tdf = df[(df[\"FILTER_PASS\"]) & (df[\"allele_type\"] == 'i') & (df.ALT.str.len() >= 50)]\n",
    "\t# df = df[[\"ID\", \"POS\", \"ALT\"]]\n",
    "\n",
    "\ti += varcount\n",
    "\tprint(f\"{i:,} of {vthree_varcount:,}\")\n",
    "\t\n",
    "\tfor _, row in df.iterrows():\n",
    "\t\tinsert_num += 1\n",
    "\t\tentries.append(f\">chr{chrom}|{row.ID}|{row.POS}|insert_{insert_num}\\n{row.ALT}\\n\")\n",
    "\t\n",
    "\twith open(vthree_outfile, 'a') as a:\n",
    "\t\tfor entry in entries:\n",
    "\t\t\ta.write(entry)"
   ]
  },
  {
   "cell_type": "code",
   "execution_count": null,
   "metadata": {},
   "outputs": [],
   "source": [
    "##### \n"
   ]
  },
  {
   "cell_type": "code",
   "execution_count": null,
   "metadata": {},
   "outputs": [],
   "source": [
    "##### \n"
   ]
  },
  {
   "cell_type": "code",
   "execution_count": null,
   "metadata": {},
   "outputs": [],
   "source": [
    "##### \n"
   ]
  },
  {
   "cell_type": "code",
   "execution_count": null,
   "metadata": {},
   "outputs": [],
   "source": [
    "##### \n"
   ]
  },
  {
   "attachments": {},
   "cell_type": "markdown",
   "metadata": {},
   "source": [
    "#####\tDiscarded code\t#####\n",
    "\n",
    "# for i in range(1,23):\n",
    "# \tinserts = pd.read_csv(f\"data/gnomAD_2.2.1/insert_tsvs/gnomAD_v2.1.1_inserts_chr{i}.tsv\", delimiter=\"\\t\")\n",
    "\n",
    "# \twith open(f\"data/gnomAD_2.2.1/insert_fastas/gnomAD_v2.1.1_inserts_chr{i}.fa\", \"w\") as w:\n",
    "# \t\twith open(f\"data/gnomAD_v2.1.1/insert_fastas/gnomAD_v2.1.1_inserts_chr{i}_revcomp.fa\", \"w\") as rev_comp:\n",
    "# \t\t\tfor _, row in inserts.iterrows():\n",
    "# \t\t\t\tw.write(f'>{row[\"ID\"]}|{row[\"Position\"]}\\n')\n",
    "# \t\t\t\tw.write(f'{row[\"Insert_sequence\"]}\\n')\n",
    "\n",
    "# \t\t\t\trev_comp.write(f'>{row[\"ID\"]}|{row[\"Position\"]}|Reverse complement\\n')\n",
    "# \t\t\t\trev_comp.write(f'{Seq.reverse_complement(row[\"Insert_sequence\"])}\\n')\n",
    "\n",
    "# inserts = pd.read_csv(\"data/gnomAD_v2.1.1/insert_tsvs/gnomAD_v2.1.1_inserts_chrX.tsv\", delimiter=\"\\t\")\n",
    "\n",
    "# with open(f\"data/gnomAD_v2.1.1/insert_fastas/gnomAD_v2.1.1_inserts_chrX.fa\", \"w\") as w:\n",
    "# \twith open(f\"data/gnomAD_v2.1.1/insert_fastas/gnomAD_v2.1.1_inserts_chrX_revcomp.fa\", \"w\") as rev_comp:\n",
    "# \t\tfor _, row in inserts.iterrows():\n",
    "# \t\t\tw.write(f'>{row[\"ID\"]}|{row[\"Position\"]}\\n')\n",
    "# \t\t\tw.write(f'{row[\"Insert_sequence\"]}\\n')\n",
    "\n",
    "# \t\t\trev_comp.write(f'>{row[\"ID\"]}|{row[\"Position\"]}|Reverse complement\\n')\n",
    "# \t\t\trev_comp.write(f'{Seq.reverse_complement(row[\"Insert_sequence\"])}\\n')\n",
    "\n",
    "_, _, _, iter = allel.iter_vcf_chunks(vtwo_vcf_file, fields=[\"variants/REF\", \"variants/FILTER_PASS\", \"allele_type\"], chunk_length=CHUNK_LENGTH)\n",
    "i = 0\n",
    "for chunk, varcount, _, _ in iter:\n",
    "\tchunk[\"variants/allele_type\"] = [a[0] for a in chunk[\"variants/allele_type\"]]\n",
    "\tdf = pd.DataFrame(chunk)\n",
    "\tdf = df[(df[\"variants/FILTER_PASS\"]) & (df[\"variants/allele_type\"] == 'ins')]\n",
    "\tassert len( df[df[\"variants/REF\"].str.len()!=1] ) == 0, df\n",
    "\n",
    "\ti += varcount\n",
    "\tprint(f\"{i:,} of {vtwo_varcount:,}\")"
   ]
  }
 ],
 "metadata": {
  "kernelspec": {
   "display_name": "Python 3.10.6 ('base': conda)",
   "language": "python",
   "name": "python3"
  },
  "language_info": {
   "codemirror_mode": {
    "name": "ipython",
    "version": 3
   },
   "file_extension": ".py",
   "mimetype": "text/x-python",
   "name": "python",
   "nbconvert_exporter": "python",
   "pygments_lexer": "ipython3",
   "version": "3.10.8"
  },
  "orig_nbformat": 4,
  "vscode": {
   "interpreter": {
    "hash": "15a590390ab2d07a8b29d5c0d429762a50d82d00365b164ce6f1192d25159d8e"
   }
  }
 },
 "nbformat": 4,
 "nbformat_minor": 2
}
