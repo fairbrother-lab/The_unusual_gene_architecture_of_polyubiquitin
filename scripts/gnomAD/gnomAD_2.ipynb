{
 "cells": [
  {
   "cell_type": "code",
   "execution_count": 1,
   "metadata": {},
   "outputs": [],
   "source": [
    "##### Imports\n",
    "import pandas as pd\n",
    "import pysam\n",
    "from Bio import Seq, SeqIO\n",
    "from scripts import functions"
   ]
  },
  {
   "cell_type": "code",
   "execution_count": 2,
   "metadata": {},
   "outputs": [],
   "source": [
    "##### Constants\n",
    "REF_GENOME_DIR = 'data/hg38.gencode.v41.primary_genome_by_chromosome'\n",
    "REF_ANNOTATIONS_FILE = 'data/hg38.gencode.v41.primary_annotation.gtf'\n",
    "\n",
    "HG38_SAM = \"data/gnomADv3.1.1/hg_38_inserts_x_introns.sam\""
   ]
  },
  {
   "cell_type": "code",
   "execution_count": 4,
   "metadata": {},
   "outputs": [],
   "source": [
    "##### Settings\n",
    "pd.set_option('display.max_columns',100)\n",
    "pd.set_option('display.max_rows', 200)"
   ]
  },
  {
   "cell_type": "code",
   "execution_count": 5,
   "metadata": {},
   "outputs": [
    {
     "name": "stdout",
     "output_type": "stream",
     "text": [
      "441393\n",
      "False\n",
      "chrX|.|256940|insert_197\t16\t#1183124\t3665\t1\t53M\t*\t0\t0\tGTTAACACAGTGAAACCCCGTCTCTACTAAAAATACAAAAAATTAGCCAGGCG\tarray('B', [40, 40, 40, 40, 40, 40, 40, 40, 40, 40, 40, 40, 40, 40, 40, 40, 40, 40, 40, 40, 40, 40, 40, 40, 40, 40, 40, 40, 40, 40, 40, 40, 40, 40, 40, 40, 40, 40, 40, 40, 40, 40, 40, 40, 40, 40, 40, 40, 40, 40, 40, 40, 40])\t[('AS', 0), ('XS', 0), ('XN', 0), ('XM', 0), ('XO', 0), ('XG', 0), ('NM', 0), ('MD', '53'), ('YT', 'UU')]\n"
     ]
    }
   ],
   "source": [
    "# ##### \n",
    "align_file = pysam.AlignmentFile(HG38_SAM, \"r\")\n",
    "print(align_file.count())\n",
    "print(align_file.has_index())\n",
    "print(next(pysam.AlignmentFile(HG38_SAM, \"r\")))"
   ]
  },
  {
   "cell_type": "code",
   "execution_count": 6,
   "metadata": {},
   "outputs": [
    {
     "data": {
      "text/plain": [
       "4"
      ]
     },
     "execution_count": 6,
     "metadata": {},
     "output_type": "execute_result"
    }
   ],
   "source": [
    "##### \n",
    "matches = []\n",
    "align_counts = {}\n",
    "for ali in pysam.AlignmentFile(HG38_SAM):\n",
    "\talign_counts[ali.query_name] = align_counts.get(ali.query_name, 0) + 1\n",
    "\n",
    "\tif abs(ali.infer_query_length() - align_file.get_reference_length(ali.reference_name)) <= 5:\n",
    "\t\tmatches.append(ali)\n",
    "len(matches)"
   ]
  },
  {
   "cell_type": "code",
   "execution_count": 7,
   "metadata": {},
   "outputs": [
    {
     "data": {
      "text/plain": [
       "1"
      ]
     },
     "execution_count": 7,
     "metadata": {},
     "output_type": "execute_result"
    }
   ],
   "source": [
    "max(align_counts.values())"
   ]
  },
  {
   "cell_type": "code",
   "execution_count": 8,
   "metadata": {},
   "outputs": [
    {
     "name": "stdout",
     "output_type": "stream",
     "text": [
      "4\n"
     ]
    },
    {
     "data": {
      "text/plain": [
       "[{'Seq_1_name': 'chrX|.|6533768|insert_7223',\n",
       "  'Seq_2_name': 'ENST00000398729.1_intron_2_0_chrX_6533889_r|6533889|6533948|-',\n",
       "  'Length': 60,\n",
       "  'Identity': 100.0,\n",
       "  'Similarity': 100.0,\n",
       "  'Gaps': 0,\n",
       "  'Score': 300.0,\n",
       "  'Display': 'chrX|.|653376      1 CTCGCTCTCCTGACTCAGTGGTTCCTCCACCTGGCTCTCCTGACTCAGTG     50\\n                     ||||||||||||||||||||||||||||||||||||||||||||||||||\\nENST000003987      1 CTCGCTCTCCTGACTCAGTGGTTCCTCCACCTGGCTCTCCTGACTCAGTG     50\\n\\nchrX|.|653376     51 GTTCTTCCAC     60\\n                     ||||||||||\\nENST000003987     51 GTTCTTCCAC     60',\n",
       "  'Seq_1_align_start': 1,\n",
       "  'Seq_1_align_end': 60,\n",
       "  'Seq_2_align_start': 1,\n",
       "  'Seq_2_align_end': 60,\n",
       "  'Insert_seq': 'CTCGCTCTCCTGACTCAGTGGTTCCTCCACCTGGCTCTCCTGACTCAGTGGTTCTTCCAC',\n",
       "  'Intron_seq': 'CTCGCTCTCCTGACTCAGTGGTTCCTCCACCTGGCTCTCCTGACTCAGTGGTTCTTCCAC',\n",
       "  'bowtie2_alignment': <pysam.libcalignedsegment.AlignedSegment at 0x7f36dfd27d60>},\n",
       " {'Seq_1_name': 'chrX|rs1569057212|6533918|insert_7231|rev',\n",
       "  'Seq_2_name': 'ENST00000620630.2_intron_1_0_chrX_7843903_f|7843903|7843962|+',\n",
       "  'Length': 60,\n",
       "  'Identity': 96.7,\n",
       "  'Similarity': 96.7,\n",
       "  'Gaps': 0,\n",
       "  'Score': 282.0,\n",
       "  'Display': 'chrX|rs156905      1 CTGGAGGAACCACTGAGTCAGGAGAGCGAGGTGGAAGAACCACTGAGTCA     50\\n                     .|||||||||||||||||||||||||||||.|||||||||||||||||||\\nENST000006206      1 GTGGAGGAACCACTGAGTCAGGAGAGCGAGATGGAAGAACCACTGAGTCA     50\\n\\nchrX|rs156905     51 GGAGAGCCAG     60\\n                     ||||||||||\\nENST000006206     51 GGAGAGCCAG     60',\n",
       "  'Seq_1_align_start': 1,\n",
       "  'Seq_1_align_end': 60,\n",
       "  'Seq_2_align_start': 1,\n",
       "  'Seq_2_align_end': 60,\n",
       "  'Insert_seq': 'CTGGCTCTCCTGACTCAGTGGTTCTTCCACCTCGCTCTCCTGACTCAGTGGTTCCTCCAG',\n",
       "  'Intron_seq': 'GTGGAGGAACCACTGAGTCAGGAGAGCGAGATGGAAGAACCACTGAGTCAGGAGAGCCAG',\n",
       "  'bowtie2_alignment': <pysam.libcalignedsegment.AlignedSegment at 0x7f36dfd27e20>},\n",
       " {'Seq_1_name': 'chrX|.|7843938|insert_7487',\n",
       "  'Seq_2_name': 'ENST00000692567.1_intron_1_0_chrX_7843873_f|7843873|7843992|+',\n",
       "  'Length': 126,\n",
       "  'Identity': 88.1,\n",
       "  'Similarity': 88.1,\n",
       "  'Gaps': 12,\n",
       "  'Score': 471.0,\n",
       "  'Display': 'chrX|.|784393      1 G------AACCACTGAGTCAGGAGAGCCAGGTGGAGGAACCACCGAGTCA     44\\n                     |      ||||||||||||||||||||||||||||||||||||.||||||\\nENST000006925      1 GTGGAGGAACCACTGAGTCAGGAGAGCCAGGTGGAGGAACCACTGAGTCA     50\\n\\nchrX|.|784393     45 GGAGAGCGAGATGGAGGAACCACTGAGTCAGGAGAGCCAGGTGGAGGAAC     94\\n                     |||||||||||||||.||||||||||||||||||||||||||||||||||\\nENST000006925     51 GGAGAGCGAGATGGAAGAACCACTGAGTCAGGAGAGCCAGGTGGAGGAAC    100\\n\\nchrX|.|784393     95 CACTGAGTCAGGAGAGCGAGATGGAG    120\\n                     |||.||||||||||||||||      \\nENST000006925    101 CACCGAGTCAGGAGAGCGAG------    120',\n",
       "  'Seq_1_align_start': 1,\n",
       "  'Seq_1_align_end': 120,\n",
       "  'Seq_2_align_start': 1,\n",
       "  'Seq_2_align_end': 120,\n",
       "  'Insert_seq': 'GAACCACTGAGTCAGGAGAGCCAGGTGGAGGAACCACCGAGTCAGGAGAGCGAGATGGAGGAACCACTGAGTCAGGAGAGCCAGGTGGAGGAACCACTGAGTCAGGAGAGCGAGATGGAG',\n",
       "  'Intron_seq': 'GTGGAGGAACCACTGAGTCAGGAGAGCCAGGTGGAGGAACCACTGAGTCAGGAGAGCGAGATGGAAGAACCACTGAGTCAGGAGAGCCAGGTGGAGGAACCACCGAGTCAGGAGAGCGAG',\n",
       "  'bowtie2_alignment': <pysam.libcalignedsegment.AlignedSegment at 0x7f36dfd4c3a0>},\n",
       " {'Seq_1_name': 'chr3|.|50117173|insert_14282',\n",
       "  'Seq_2_name': 'ENST00000347869.8_intron_22_0_chr3_50117172_f|50117172|50117249|+',\n",
       "  'Length': 79,\n",
       "  'Identity': 96.2,\n",
       "  'Similarity': 96.2,\n",
       "  'Gaps': 3,\n",
       "  'Score': 344.0,\n",
       "  'Display': 'chr3|.|501171      1 --ATGTGATGTGCACATTTTCCAGTTCGTAAGCTGGGGCCCTGGCTGTTT     48\\n                       ||||||||||||||||||||||||||||||||||||||||||||||||\\nENST000003478      1 GTATGTGATGTGCACATTTTCCAGTTCGTAAGCTGGGGCCCTGGCTGTTT     50\\n\\nchr3|.|501171     49 TAAGTAACTGTGTGTTTGCCACTGGCAGG     77\\n                     |||||||||||||||||||||||||||| \\nENST000003478     51 TAAGTAACTGTGTGTTTGCCACTGGCAG-     78',\n",
       "  'Seq_1_align_start': 1,\n",
       "  'Seq_1_align_end': 77,\n",
       "  'Seq_2_align_start': 1,\n",
       "  'Seq_2_align_end': 78,\n",
       "  'Insert_seq': 'ATGTGATGTGCACATTTTCCAGTTCGTAAGCTGGGGCCCTGGCTGTTTTAAGTAACTGTGTGTTTGCCACTGGCAGG',\n",
       "  'Intron_seq': 'GTATGTGATGTGCACATTTTCCAGTTCGTAAGCTGGGGCCCTGGCTGTTTTAAGTAACTGTGTGTTTGCCACTGGCAG',\n",
       "  'bowtie2_alignment': <pysam.libcalignedsegment.AlignedSegment at 0x7f36da613880>}]"
      ]
     },
     "execution_count": 8,
     "metadata": {},
     "output_type": "execute_result"
    }
   ],
   "source": [
    "good_matches = []\n",
    "for ali in matches:\n",
    "\tref_name = ali.reference_name\n",
    "\tinsert_chrom = ali.query_name.split(\"|\")[0]\n",
    "\tintron_chrom = [item for item in ref_name.split(\"_\") if \"chr\" in item][0]\n",
    "\t# print(ali)\n",
    "\n",
    "\tfor insert in SeqIO.parse(f\"data/gnomADv3.1.1/insert_fastas/gnomAD_v3.1.1_inserts_{insert_chrom}.fa\", \"fasta\"):\n",
    "\t\tif insert.name == ali.query_name:\n",
    "\t\t\tinsert_seq = str(insert.seq)\n",
    "\t\t\tassert len(insert_seq) == len(ali.query_sequence)\n",
    "\t\t\tbreak\n",
    "\n",
    "\tfor intron in SeqIO.parse(f\"data/hg38.ucsc_gencode_v41.introns_by_chromosome/{intron_chrom}.fa\", \"fasta\"):\n",
    "\t\tif intron.name == ref_name:\n",
    "\t\t\tintron_seq = str(intron.seq)\n",
    "\t\t\tassert (len(intron_seq)) == align_file.get_reference_length(ali.reference_name)\n",
    "\t\t\tbreak\n",
    "\tstretcher_alignment = functions.emboss_stretcher(insert_seq, intron_seq, ali.query_name, ref_name)\n",
    "\trev_alignment = functions.emboss_stretcher(Seq.reverse_complement(insert_seq), intron_seq, f\"{ali.query_name}|rev\", ref_name)\n",
    "\tif stretcher_alignment[\"Identity\"] < rev_alignment[\"Identity\"]:\n",
    "\t\tstretcher_alignment = rev_alignment\n",
    "\t\t# insert_seq = Seq.reverse_complement(insert_seq)\n",
    "\tstretcher_alignment[\"Insert_seq\"] = insert_seq\n",
    "\tstretcher_alignment[\"Intron_seq\"] = intron_seq\n",
    "\tstretcher_alignment[\"bowtie2_alignment\"] = ali\n",
    "\tif stretcher_alignment[\"Identity\"] >= 80:\n",
    "\t\tgood_matches.append(stretcher_alignment)\n",
    "\n",
    "print(len(good_matches))\n",
    "good_matches"
   ]
  },
  {
   "cell_type": "code",
   "execution_count": 9,
   "metadata": {},
   "outputs": [
    {
     "data": {
      "text/html": [
       "<div>\n",
       "<style scoped>\n",
       "    .dataframe tbody tr th:only-of-type {\n",
       "        vertical-align: middle;\n",
       "    }\n",
       "\n",
       "    .dataframe tbody tr th {\n",
       "        vertical-align: top;\n",
       "    }\n",
       "\n",
       "    .dataframe thead th {\n",
       "        text-align: right;\n",
       "    }\n",
       "</style>\n",
       "<table border=\"1\" class=\"dataframe\">\n",
       "  <thead>\n",
       "    <tr style=\"text-align: right;\">\n",
       "      <th></th>\n",
       "      <th>Insert_chrom</th>\n",
       "      <th>Intron_chrom</th>\n",
       "      <th>Insert_start</th>\n",
       "      <th>Intron_start</th>\n",
       "      <th>Intron_end</th>\n",
       "      <th>Intron_strand</th>\n",
       "      <th>Identity</th>\n",
       "      <th>Gaps</th>\n",
       "      <th>Insert_length</th>\n",
       "      <th>Intron_length</th>\n",
       "      <th>Insert_seq</th>\n",
       "      <th>Intron_seq</th>\n",
       "      <th>Insert_name</th>\n",
       "      <th>Intron_name</th>\n",
       "    </tr>\n",
       "  </thead>\n",
       "  <tbody>\n",
       "    <tr>\n",
       "      <th>0</th>\n",
       "      <td>chr3</td>\n",
       "      <td>chr3</td>\n",
       "      <td>50117173</td>\n",
       "      <td>50117172</td>\n",
       "      <td>50117249</td>\n",
       "      <td>+</td>\n",
       "      <td>96.2</td>\n",
       "      <td>3</td>\n",
       "      <td>77</td>\n",
       "      <td>78</td>\n",
       "      <td>ATGTGATGTGCACATTTTCCAGTTCGTAAGCTGGGGCCCTGGCTGT...</td>\n",
       "      <td>GTATGTGATGTGCACATTTTCCAGTTCGTAAGCTGGGGCCCTGGCT...</td>\n",
       "      <td>chr3|.|50117173|insert_14282</td>\n",
       "      <td>ENST00000347869.8_intron_22_0_chr3_50117172_f|...</td>\n",
       "    </tr>\n",
       "    <tr>\n",
       "      <th>1</th>\n",
       "      <td>chrX</td>\n",
       "      <td>chrX</td>\n",
       "      <td>6533768</td>\n",
       "      <td>6533889</td>\n",
       "      <td>6533948</td>\n",
       "      <td>-</td>\n",
       "      <td>100.0</td>\n",
       "      <td>0</td>\n",
       "      <td>60</td>\n",
       "      <td>60</td>\n",
       "      <td>CTCGCTCTCCTGACTCAGTGGTTCCTCCACCTGGCTCTCCTGACTC...</td>\n",
       "      <td>CTCGCTCTCCTGACTCAGTGGTTCCTCCACCTGGCTCTCCTGACTC...</td>\n",
       "      <td>chrX|.|6533768|insert_7223</td>\n",
       "      <td>ENST00000398729.1_intron_2_0_chrX_6533889_r|65...</td>\n",
       "    </tr>\n",
       "    <tr>\n",
       "      <th>2</th>\n",
       "      <td>chrX</td>\n",
       "      <td>chrX</td>\n",
       "      <td>6533918</td>\n",
       "      <td>7843903</td>\n",
       "      <td>7843962</td>\n",
       "      <td>+</td>\n",
       "      <td>96.7</td>\n",
       "      <td>0</td>\n",
       "      <td>60</td>\n",
       "      <td>60</td>\n",
       "      <td>CTGGCTCTCCTGACTCAGTGGTTCTTCCACCTCGCTCTCCTGACTC...</td>\n",
       "      <td>GTGGAGGAACCACTGAGTCAGGAGAGCGAGATGGAAGAACCACTGA...</td>\n",
       "      <td>chrX|rs1569057212|6533918|insert_7231|rev</td>\n",
       "      <td>ENST00000620630.2_intron_1_0_chrX_7843903_f|78...</td>\n",
       "    </tr>\n",
       "    <tr>\n",
       "      <th>3</th>\n",
       "      <td>chrX</td>\n",
       "      <td>chrX</td>\n",
       "      <td>7843938</td>\n",
       "      <td>7843873</td>\n",
       "      <td>7843992</td>\n",
       "      <td>+</td>\n",
       "      <td>88.1</td>\n",
       "      <td>12</td>\n",
       "      <td>120</td>\n",
       "      <td>120</td>\n",
       "      <td>GAACCACTGAGTCAGGAGAGCCAGGTGGAGGAACCACCGAGTCAGG...</td>\n",
       "      <td>GTGGAGGAACCACTGAGTCAGGAGAGCCAGGTGGAGGAACCACTGA...</td>\n",
       "      <td>chrX|.|7843938|insert_7487</td>\n",
       "      <td>ENST00000692567.1_intron_1_0_chrX_7843873_f|78...</td>\n",
       "    </tr>\n",
       "  </tbody>\n",
       "</table>\n",
       "</div>"
      ],
      "text/plain": [
       "  Insert_chrom Intron_chrom Insert_start Intron_start Intron_end  \\\n",
       "0         chr3         chr3     50117173     50117172   50117249   \n",
       "1         chrX         chrX      6533768      6533889    6533948   \n",
       "2         chrX         chrX      6533918      7843903    7843962   \n",
       "3         chrX         chrX      7843938      7843873    7843992   \n",
       "\n",
       "  Intron_strand  Identity  Gaps  Insert_length  Intron_length  \\\n",
       "0             +      96.2     3             77             78   \n",
       "1             -     100.0     0             60             60   \n",
       "2             +      96.7     0             60             60   \n",
       "3             +      88.1    12            120            120   \n",
       "\n",
       "                                          Insert_seq  \\\n",
       "0  ATGTGATGTGCACATTTTCCAGTTCGTAAGCTGGGGCCCTGGCTGT...   \n",
       "1  CTCGCTCTCCTGACTCAGTGGTTCCTCCACCTGGCTCTCCTGACTC...   \n",
       "2  CTGGCTCTCCTGACTCAGTGGTTCTTCCACCTCGCTCTCCTGACTC...   \n",
       "3  GAACCACTGAGTCAGGAGAGCCAGGTGGAGGAACCACCGAGTCAGG...   \n",
       "\n",
       "                                          Intron_seq  \\\n",
       "0  GTATGTGATGTGCACATTTTCCAGTTCGTAAGCTGGGGCCCTGGCT...   \n",
       "1  CTCGCTCTCCTGACTCAGTGGTTCCTCCACCTGGCTCTCCTGACTC...   \n",
       "2  GTGGAGGAACCACTGAGTCAGGAGAGCGAGATGGAAGAACCACTGA...   \n",
       "3  GTGGAGGAACCACTGAGTCAGGAGAGCCAGGTGGAGGAACCACTGA...   \n",
       "\n",
       "                                 Insert_name  \\\n",
       "0               chr3|.|50117173|insert_14282   \n",
       "1                 chrX|.|6533768|insert_7223   \n",
       "2  chrX|rs1569057212|6533918|insert_7231|rev   \n",
       "3                 chrX|.|7843938|insert_7487   \n",
       "\n",
       "                                         Intron_name  \n",
       "0  ENST00000347869.8_intron_22_0_chr3_50117172_f|...  \n",
       "1  ENST00000398729.1_intron_2_0_chrX_6533889_r|65...  \n",
       "2  ENST00000620630.2_intron_1_0_chrX_7843903_f|78...  \n",
       "3  ENST00000692567.1_intron_1_0_chrX_7843873_f|78...  "
      ]
     },
     "execution_count": 9,
     "metadata": {},
     "output_type": "execute_result"
    }
   ],
   "source": [
    "good_matches_df = {\"Insert_chrom\": [],\n",
    "\t\t\t\t\"Intron_chrom\": [],\n",
    "\t\t\t\t\"Insert_start\": [],\n",
    "\t\t\t\t\"Intron_start\": [],\n",
    "\t\t\t\t\"Intron_end\": [],\n",
    "\t\t\t\t\"Intron_strand\": [],\n",
    "\t\t\t\t# \"Cigar_string\": [],\n",
    "\t\t\t\t\"Identity\": [],\n",
    "\t\t\t\t\"Gaps\": [],\n",
    "\t\t\t\t\"Insert_length\": [],\n",
    "\t\t\t\t\"Intron_length\": [],\n",
    "\t\t\t\t\"Insert_seq\": [],\n",
    "\t\t\t\t\"Intron_seq\": [],\n",
    "\t\t\t\t\"Insert_name\": [],\n",
    "\t\t\t\t\"Intron_name\": [],\n",
    "\t\t\t\t}\n",
    "for match in good_matches:\n",
    "\tgood_matches_df[\"Insert_chrom\"].append(match[\"Seq_1_name\"].split(\"|\")[0])\n",
    "\tgood_matches_df[\"Intron_chrom\"].append([item for item in match[\"Seq_2_name\"].split(\"_\") if \"chr\" in item][0])\n",
    "\tgood_matches_df[\"Insert_start\"].append(match[\"Seq_1_name\"].split(\"|\")[2])\n",
    "\tgood_matches_df[\"Intron_start\"].append(match[\"Seq_2_name\"].split(\"|\")[1])\n",
    "\tgood_matches_df[\"Intron_end\"].append(match[\"Seq_2_name\"].split(\"|\")[2])\n",
    "\tgood_matches_df[\"Intron_strand\"].append(match[\"Seq_2_name\"].split(\"|\")[3])\n",
    "\t# cigar = \"M \".join(match[\"bowtie2_alignment\"].cigarstring.split(\"M\"))\n",
    "\t# good_matches_df[\"Cigar_string\"].append(\"I \".join(cigar.split(\"I\")))\n",
    "\tgood_matches_df[\"Identity\"].append(match[\"Identity\"])\n",
    "\tgood_matches_df[\"Gaps\"].append(match[\"Gaps\"])\n",
    "\tgood_matches_df[\"Insert_length\"].append(len(match[\"Insert_seq\"]))\n",
    "\tgood_matches_df[\"Intron_length\"].append(len(match[\"Intron_seq\"]))\n",
    "\tgood_matches_df[\"Insert_seq\"].append(match[\"Insert_seq\"])\n",
    "\tgood_matches_df[\"Intron_seq\"].append(match[\"Intron_seq\"])\n",
    "\tgood_matches_df[\"Insert_name\"].append(match[\"Seq_1_name\"])\n",
    "\tgood_matches_df[\"Intron_name\"].append(match[\"Seq_2_name\"])\n",
    "good_matches_df = pd.DataFrame(good_matches_df)\n",
    "good_matches_df.sort_values(by=[\"Insert_chrom\", \"Intron_chrom\", \"Insert_start\", \"Intron_start\"], inplace=True, ignore_index=True)\n",
    "good_matches_df"
   ]
  },
  {
   "cell_type": "code",
   "execution_count": 13,
   "metadata": {},
   "outputs": [
    {
     "name": "stdout",
     "output_type": "stream",
     "text": [
      "ATGTGATGTGCACATTTTCCAGTTCGTAAGCTGGGGCCCTGGCTGTTTTAAGTAACTGTGTGTTTGCCACTGGCAGG \t\t\t GTATGTGATGTGCACATTTTCCAGTTCGTAAGCTGGGGCCCTGGCTGTTTTAAGTAACTGTGTGTTTGCCACTGGCAG\n",
      "CTCGCTCTCCTGACTCAGTGGTTCCTCCACCTGGCTCTCCTGACTCAGTGGTTCTTCCAC \t\t\t GTGGAAGAACCACTGAGTCAGGAGAGCCAGGTGGAGGAACCACTGAGTCAGGAGAGCGAG\n",
      "CTGGCTCTCCTGACTCAGTGGTTCTTCCACCTCGCTCTCCTGACTCAGTGGTTCCTCCAG \t\t\t GTGGAGGAACCACTGAGTCAGGAGAGCGAGATGGAAGAACCACTGAGTCAGGAGAGCCAG\n",
      "GAACCACTGAGTCAGGAGAGCCAGGTGGAGGAACCACCGAGTCAGGAGAGCGAGATGGAGGAACCACTGAGTCAGGAGAGCCAGGTGGAGGAACCACTGAGTCAGGAGAGCGAGATGGAG \t\t\t GTGGAGGAACCACTGAGTCAGGAGAGCCAGGTGGAGGAACCACTGAGTCAGGAGAGCGAGATGGAAGAACCACTGAGTCAGGAGAGCCAGGTGGAGGAACCACCGAGTCAGGAGAGCGAG\n"
     ]
    }
   ],
   "source": [
    "for _, row in good_matches_df.iterrows():\n",
    "\tif row[\"Intron_name\"].startswith(\"ENST00000398729.1_intron_2_0_chrX_6533889_r\"):\n",
    "\t\tprint(row[\"Insert_seq\"], \"\\t\\t\\t\", Seq.reverse_complement(row[\"Intron_seq\"]))\n",
    "\telse:\n",
    "\t\tprint(row[\"Insert_seq\"], \"\\t\\t\\t\", row[\"Intron_seq\"])"
   ]
  },
  {
   "cell_type": "code",
   "execution_count": 5,
   "metadata": {},
   "outputs": [
    {
     "data": {
      "text/plain": [
       "'GTGGAAGAACCACTGAGTCAGGAGAGCCAGGTGGAGGAACCACTGAGTCAGGAGAGCGAG'"
      ]
     },
     "execution_count": 5,
     "metadata": {},
     "output_type": "execute_result"
    }
   ],
   "source": [
    "Seq.reverse_complement(\"CTCGCTCTCCTGACTCAGTGGTTCCTCCACCTGGCTCTCCTGACTCAGTGGTTCTTCCAC\")"
   ]
  },
  {
   "cell_type": "code",
   "execution_count": 2,
   "metadata": {},
   "outputs": [
    {
     "data": {
      "text/plain": [
       "True"
      ]
     },
     "execution_count": 2,
     "metadata": {},
     "output_type": "execute_result"
    }
   ],
   "source": [
    "'GTGGAAGAACCACTGAGTCAGGAGAGCCAGGTGGAGGAACCACTGAGTCAGGAGAGCGAG' == Seq.reverse_complement('CTCGCTCTCCTGACTCAGTGGTTCCTCCACCTGGCTCTCCTGACTCAGTGGTTCTTCCAC')"
   ]
  },
  {
   "cell_type": "code",
   "execution_count": null,
   "metadata": {},
   "outputs": [],
   "source": [
    "# ATGTGATGTG\n",
    "# CACATTTTCC\n",
    "# AGTTCGTAAG\n",
    "# CTGGGGCCCT\n",
    "# GGCTGTTTTA\n",
    "# AGTAACTGTG\n",
    "# TGTTTGCCAC\n",
    "# TGGCAGG\n",
    "\n",
    "# GTATGTGATG\n",
    "# TGCACATTTT\n",
    "# CCAGTTCGTA\n",
    "# AGCTGGGGCC\n",
    "# CTGGCTGTTT\n",
    "# TAAGTAACTG\n",
    "# TGTGTTTGCC\n",
    "# ACTGGCAG\n",
    "\n",
    "\n",
    "# CTCGCTCTCC\n",
    "# TGACTCAGTG\n",
    "# GTTCCTCCAC\n",
    "# CTGGCTCTCC\n",
    "# TGACTCAGTG\n",
    "# GTTCTTCCAC\n",
    "\n",
    "# GTGGAAGAAC\n",
    "# CACTGAGTCA\n",
    "# GGAGAGCCAG\n",
    "# GTGGAGGAAC\n",
    "# CACTGAGTCA\n",
    "# GGAGAGCGAG\n",
    "\n",
    "\n",
    "# CTGGCTCTCC\n",
    "# TGACTCAGTG\n",
    "# GTTCTTCCAC\n",
    "# CTCGCTCTCC\n",
    "# TGACTCAGTG\n",
    "# GTTCCTCCAG\n",
    "\n",
    "# GTGGAGGAAC\n",
    "# CACTGAGTCA\n",
    "# GGAGAGCGAG\n",
    "# ATGGAAGAAC\n",
    "# CACTGAGTCA\n",
    "# GGAGAGCCAG\n",
    "\n",
    "\n",
    "# GAACCACTGA\n",
    "# GTCAGGAGAG\n",
    "# CCAGGTGGAG\n",
    "# GAACCACCGA\n",
    "# GTCAGGAGAG\n",
    "# CGAGATGGAG\n",
    "# GAACCACTGA\n",
    "# GTCAGGAGAG\n",
    "# CCAGGTGGAG\n",
    "# GAACCACTGA\n",
    "# GTCAGGAGAG\n",
    "# CGAGATGGAG\n",
    "\n",
    "# GTGGAGGAAC\n",
    "# CACTGAGTCA\n",
    "# GGAGAGCCAG\n",
    "# GTGGAGGAAC\n",
    "# CACTGAGTCA\n",
    "# GGAGAGCGAG\n",
    "# ATGGAAGAAC\n",
    "# CACTGAGTCA\n",
    "# GGAGAGCCAG\n",
    "# GTGGAGGAAC\n",
    "# CACCGAGTCA\n",
    "# GGAGAGCGAG"
   ]
  },
  {
   "cell_type": "code",
   "execution_count": null,
   "metadata": {},
   "outputs": [],
   "source": []
  },
  {
   "cell_type": "code",
   "execution_count": null,
   "metadata": {},
   "outputs": [],
   "source": []
  },
  {
   "cell_type": "code",
   "execution_count": null,
   "metadata": {},
   "outputs": [],
   "source": []
  },
  {
   "cell_type": "code",
   "execution_count": null,
   "metadata": {},
   "outputs": [],
   "source": []
  }
 ],
 "metadata": {
  "kernelspec": {
   "display_name": "Python 3.10.6 ('base': conda)",
   "language": "python",
   "name": "python3"
  },
  "language_info": {
   "codemirror_mode": {
    "name": "ipython",
    "version": 3
   },
   "file_extension": ".py",
   "mimetype": "text/x-python",
   "name": "python",
   "nbconvert_exporter": "python",
   "pygments_lexer": "ipython3",
   "version": "3.10.8"
  },
  "orig_nbformat": 4,
  "vscode": {
   "interpreter": {
    "hash": "15a590390ab2d07a8b29d5c0d429762a50d82d00365b164ce6f1192d25159d8e"
   }
  }
 },
 "nbformat": 4,
 "nbformat_minor": 2
}
